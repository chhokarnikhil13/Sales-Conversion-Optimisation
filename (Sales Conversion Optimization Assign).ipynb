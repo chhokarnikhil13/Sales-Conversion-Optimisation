{
 "cells": [
  {
   "cell_type": "markdown",
   "id": "312a3547",
   "metadata": {},
   "source": [
    "About the data\n",
    "\n",
    "Source: https://www.kaggle.com/loveall/clicks-conversion-tracking\n",
    "       \n",
    "       \n",
    "Question to answer\n",
    "\n",
    "1. How to optimize the social ad campaigns for the highest conversion rate possible? (Attain best Reach to Conversion ratios/Click to Conversion ratios)\n",
    "\n",
    "2. Finding the perfect target demographics with the appropriate click through rates\n",
    "\n",
    "3. Understanding the ideal turnaround/decision making time per age group to convert and re-target future social campaigns\n",
    "\n",
    "4. Comparing the individual campaign performance so the best creative/campaign can be run again with adjusted audiences.\n",
    "\n",
    "    •    Do data cleaning and data preparing activities, if required.\n",
    "    •    Run descriptive analytics on the prepared data and draw tables, charts and graphs.\n",
    "    •    Interpret the charts and graphs and list out the insights.\n",
    "    •    You can use any one (1) tool to run descriptive analytics.\n",
    "    •    Excel or R or Python or Matlab or Tableau or SPSS or any other tool at your disposal."
   ]
  },
  {
   "cell_type": "code",
   "execution_count": 2,
   "id": "59f7ffa0",
   "metadata": {},
   "outputs": [],
   "source": [
    "#importing required libraries\n",
    "\n",
    "import pandas as pd\n",
    "import numpy as np\n",
    "import matplotlib.pyplot as plt\n",
    "import seaborn as sns"
   ]
  },
  {
   "cell_type": "code",
   "execution_count": 3,
   "id": "577ee510",
   "metadata": {},
   "outputs": [],
   "source": [
    "#reading the file\n",
    "\n",
    "df = pd.read_csv(r\"C:\\Users\\chhok\\Downloads\\KAG_conversion_data.csv\")"
   ]
  },
  {
   "cell_type": "code",
   "execution_count": 4,
   "id": "f1669706",
   "metadata": {},
   "outputs": [
    {
     "data": {
      "text/html": [
       "<div>\n",
       "<style scoped>\n",
       "    .dataframe tbody tr th:only-of-type {\n",
       "        vertical-align: middle;\n",
       "    }\n",
       "\n",
       "    .dataframe tbody tr th {\n",
       "        vertical-align: top;\n",
       "    }\n",
       "\n",
       "    .dataframe thead th {\n",
       "        text-align: right;\n",
       "    }\n",
       "</style>\n",
       "<table border=\"1\" class=\"dataframe\">\n",
       "  <thead>\n",
       "    <tr style=\"text-align: right;\">\n",
       "      <th></th>\n",
       "      <th>ad_id</th>\n",
       "      <th>xyz_campaign_id</th>\n",
       "      <th>fb_campaign_id</th>\n",
       "      <th>age</th>\n",
       "      <th>gender</th>\n",
       "      <th>interest</th>\n",
       "      <th>Impressions</th>\n",
       "      <th>Clicks</th>\n",
       "      <th>Spent</th>\n",
       "      <th>Total_Conversion</th>\n",
       "      <th>Approved_Conversion</th>\n",
       "    </tr>\n",
       "  </thead>\n",
       "  <tbody>\n",
       "    <tr>\n",
       "      <th>0</th>\n",
       "      <td>708746</td>\n",
       "      <td>916</td>\n",
       "      <td>103916</td>\n",
       "      <td>30-34</td>\n",
       "      <td>M</td>\n",
       "      <td>15</td>\n",
       "      <td>7350</td>\n",
       "      <td>1</td>\n",
       "      <td>1.430000</td>\n",
       "      <td>2</td>\n",
       "      <td>1</td>\n",
       "    </tr>\n",
       "    <tr>\n",
       "      <th>1</th>\n",
       "      <td>708749</td>\n",
       "      <td>916</td>\n",
       "      <td>103917</td>\n",
       "      <td>30-34</td>\n",
       "      <td>M</td>\n",
       "      <td>16</td>\n",
       "      <td>17861</td>\n",
       "      <td>2</td>\n",
       "      <td>1.820000</td>\n",
       "      <td>2</td>\n",
       "      <td>0</td>\n",
       "    </tr>\n",
       "    <tr>\n",
       "      <th>2</th>\n",
       "      <td>708771</td>\n",
       "      <td>916</td>\n",
       "      <td>103920</td>\n",
       "      <td>30-34</td>\n",
       "      <td>M</td>\n",
       "      <td>20</td>\n",
       "      <td>693</td>\n",
       "      <td>0</td>\n",
       "      <td>0.000000</td>\n",
       "      <td>1</td>\n",
       "      <td>0</td>\n",
       "    </tr>\n",
       "    <tr>\n",
       "      <th>3</th>\n",
       "      <td>708815</td>\n",
       "      <td>916</td>\n",
       "      <td>103928</td>\n",
       "      <td>30-34</td>\n",
       "      <td>M</td>\n",
       "      <td>28</td>\n",
       "      <td>4259</td>\n",
       "      <td>1</td>\n",
       "      <td>1.250000</td>\n",
       "      <td>1</td>\n",
       "      <td>0</td>\n",
       "    </tr>\n",
       "    <tr>\n",
       "      <th>4</th>\n",
       "      <td>708818</td>\n",
       "      <td>916</td>\n",
       "      <td>103928</td>\n",
       "      <td>30-34</td>\n",
       "      <td>M</td>\n",
       "      <td>28</td>\n",
       "      <td>4133</td>\n",
       "      <td>1</td>\n",
       "      <td>1.290000</td>\n",
       "      <td>1</td>\n",
       "      <td>1</td>\n",
       "    </tr>\n",
       "    <tr>\n",
       "      <th>...</th>\n",
       "      <td>...</td>\n",
       "      <td>...</td>\n",
       "      <td>...</td>\n",
       "      <td>...</td>\n",
       "      <td>...</td>\n",
       "      <td>...</td>\n",
       "      <td>...</td>\n",
       "      <td>...</td>\n",
       "      <td>...</td>\n",
       "      <td>...</td>\n",
       "      <td>...</td>\n",
       "    </tr>\n",
       "    <tr>\n",
       "      <th>1138</th>\n",
       "      <td>1314410</td>\n",
       "      <td>1178</td>\n",
       "      <td>179977</td>\n",
       "      <td>45-49</td>\n",
       "      <td>F</td>\n",
       "      <td>109</td>\n",
       "      <td>1129773</td>\n",
       "      <td>252</td>\n",
       "      <td>358.189997</td>\n",
       "      <td>13</td>\n",
       "      <td>2</td>\n",
       "    </tr>\n",
       "    <tr>\n",
       "      <th>1139</th>\n",
       "      <td>1314411</td>\n",
       "      <td>1178</td>\n",
       "      <td>179978</td>\n",
       "      <td>45-49</td>\n",
       "      <td>F</td>\n",
       "      <td>110</td>\n",
       "      <td>637549</td>\n",
       "      <td>120</td>\n",
       "      <td>173.880003</td>\n",
       "      <td>3</td>\n",
       "      <td>0</td>\n",
       "    </tr>\n",
       "    <tr>\n",
       "      <th>1140</th>\n",
       "      <td>1314412</td>\n",
       "      <td>1178</td>\n",
       "      <td>179979</td>\n",
       "      <td>45-49</td>\n",
       "      <td>F</td>\n",
       "      <td>111</td>\n",
       "      <td>151531</td>\n",
       "      <td>28</td>\n",
       "      <td>40.289999</td>\n",
       "      <td>2</td>\n",
       "      <td>0</td>\n",
       "    </tr>\n",
       "    <tr>\n",
       "      <th>1141</th>\n",
       "      <td>1314414</td>\n",
       "      <td>1178</td>\n",
       "      <td>179981</td>\n",
       "      <td>45-49</td>\n",
       "      <td>F</td>\n",
       "      <td>113</td>\n",
       "      <td>790253</td>\n",
       "      <td>135</td>\n",
       "      <td>198.710001</td>\n",
       "      <td>8</td>\n",
       "      <td>2</td>\n",
       "    </tr>\n",
       "    <tr>\n",
       "      <th>1142</th>\n",
       "      <td>1314415</td>\n",
       "      <td>1178</td>\n",
       "      <td>179982</td>\n",
       "      <td>45-49</td>\n",
       "      <td>F</td>\n",
       "      <td>114</td>\n",
       "      <td>513161</td>\n",
       "      <td>114</td>\n",
       "      <td>165.609999</td>\n",
       "      <td>5</td>\n",
       "      <td>2</td>\n",
       "    </tr>\n",
       "  </tbody>\n",
       "</table>\n",
       "<p>1143 rows × 11 columns</p>\n",
       "</div>"
      ],
      "text/plain": [
       "        ad_id  xyz_campaign_id  fb_campaign_id    age gender  interest  \\\n",
       "0      708746              916          103916  30-34      M        15   \n",
       "1      708749              916          103917  30-34      M        16   \n",
       "2      708771              916          103920  30-34      M        20   \n",
       "3      708815              916          103928  30-34      M        28   \n",
       "4      708818              916          103928  30-34      M        28   \n",
       "...       ...              ...             ...    ...    ...       ...   \n",
       "1138  1314410             1178          179977  45-49      F       109   \n",
       "1139  1314411             1178          179978  45-49      F       110   \n",
       "1140  1314412             1178          179979  45-49      F       111   \n",
       "1141  1314414             1178          179981  45-49      F       113   \n",
       "1142  1314415             1178          179982  45-49      F       114   \n",
       "\n",
       "      Impressions  Clicks       Spent  Total_Conversion  Approved_Conversion  \n",
       "0            7350       1    1.430000                 2                    1  \n",
       "1           17861       2    1.820000                 2                    0  \n",
       "2             693       0    0.000000                 1                    0  \n",
       "3            4259       1    1.250000                 1                    0  \n",
       "4            4133       1    1.290000                 1                    1  \n",
       "...           ...     ...         ...               ...                  ...  \n",
       "1138      1129773     252  358.189997                13                    2  \n",
       "1139       637549     120  173.880003                 3                    0  \n",
       "1140       151531      28   40.289999                 2                    0  \n",
       "1141       790253     135  198.710001                 8                    2  \n",
       "1142       513161     114  165.609999                 5                    2  \n",
       "\n",
       "[1143 rows x 11 columns]"
      ]
     },
     "execution_count": 4,
     "metadata": {},
     "output_type": "execute_result"
    }
   ],
   "source": [
    "df"
   ]
  },
  {
   "cell_type": "markdown",
   "id": "36939c08",
   "metadata": {},
   "source": [
    "1.) ad_id: an unique ID for each ad.\n",
    "\n",
    "2.) xyzcampaignid: an ID associated with each ad campaign of XYZ company.\n",
    "\n",
    "3.) fbcampaignid: an ID associated with how Facebook tracks each campaign.\n",
    "\n",
    "4.) age: age of the person to whom the ad is shown.\n",
    "\n",
    "5.) gender: gender of the person to whim the add is shown\n",
    "\n",
    "6.) interest: a code specifying the category to which the person’s interest belongs (interests are as mentioned in the person’s Facebook public profile).\n",
    "\n",
    "7.) Impressions: the number of times the ad was shown.\n",
    "\n",
    "8.) Clicks: number of clicks on for that ad.\n",
    "\n",
    "9.) Spent: Amount paid by company xyz to Facebook, to show that ad.\n",
    "\n",
    "10.) Total conversion: Total number of people who enquired about the product after seeing the ad.\n",
    "\n",
    "11.) Approved conversion: Total number of people who bought the product after seeing the ad.\n"
   ]
  },
  {
   "cell_type": "code",
   "execution_count": 5,
   "id": "91aad0f5",
   "metadata": {},
   "outputs": [
    {
     "data": {
      "text/plain": [
       "ad_id                  0\n",
       "xyz_campaign_id        0\n",
       "fb_campaign_id         0\n",
       "age                    0\n",
       "gender                 0\n",
       "interest               0\n",
       "Impressions            0\n",
       "Clicks                 0\n",
       "Spent                  0\n",
       "Total_Conversion       0\n",
       "Approved_Conversion    0\n",
       "dtype: int64"
      ]
     },
     "execution_count": 5,
     "metadata": {},
     "output_type": "execute_result"
    }
   ],
   "source": [
    "# checking of any null value\n",
    "\n",
    "df.isnull().sum()"
   ]
  },
  {
   "cell_type": "code",
   "execution_count": 6,
   "id": "13f4529c",
   "metadata": {},
   "outputs": [
    {
     "name": "stdout",
     "output_type": "stream",
     "text": [
      "<class 'pandas.core.frame.DataFrame'>\n",
      "RangeIndex: 1143 entries, 0 to 1142\n",
      "Data columns (total 11 columns):\n",
      " #   Column               Non-Null Count  Dtype  \n",
      "---  ------               --------------  -----  \n",
      " 0   ad_id                1143 non-null   int64  \n",
      " 1   xyz_campaign_id      1143 non-null   int64  \n",
      " 2   fb_campaign_id       1143 non-null   int64  \n",
      " 3   age                  1143 non-null   object \n",
      " 4   gender               1143 non-null   object \n",
      " 5   interest             1143 non-null   int64  \n",
      " 6   Impressions          1143 non-null   int64  \n",
      " 7   Clicks               1143 non-null   int64  \n",
      " 8   Spent                1143 non-null   float64\n",
      " 9   Total_Conversion     1143 non-null   int64  \n",
      " 10  Approved_Conversion  1143 non-null   int64  \n",
      "dtypes: float64(1), int64(8), object(2)\n",
      "memory usage: 98.4+ KB\n"
     ]
    }
   ],
   "source": [
    "#checking the data type\n",
    "\n",
    "df.info()"
   ]
  },
  {
   "cell_type": "code",
   "execution_count": 7,
   "id": "cef0c90e",
   "metadata": {},
   "outputs": [
    {
     "data": {
      "text/html": [
       "<div>\n",
       "<style scoped>\n",
       "    .dataframe tbody tr th:only-of-type {\n",
       "        vertical-align: middle;\n",
       "    }\n",
       "\n",
       "    .dataframe tbody tr th {\n",
       "        vertical-align: top;\n",
       "    }\n",
       "\n",
       "    .dataframe thead th {\n",
       "        text-align: right;\n",
       "    }\n",
       "</style>\n",
       "<table border=\"1\" class=\"dataframe\">\n",
       "  <thead>\n",
       "    <tr style=\"text-align: right;\">\n",
       "      <th></th>\n",
       "      <th>count</th>\n",
       "      <th>mean</th>\n",
       "      <th>std</th>\n",
       "      <th>min</th>\n",
       "      <th>25%</th>\n",
       "      <th>50%</th>\n",
       "      <th>75%</th>\n",
       "      <th>max</th>\n",
       "    </tr>\n",
       "  </thead>\n",
       "  <tbody>\n",
       "    <tr>\n",
       "      <th>ad_id</th>\n",
       "      <td>1143.0</td>\n",
       "      <td>987261.130359</td>\n",
       "      <td>193992.814738</td>\n",
       "      <td>708746.0</td>\n",
       "      <td>777632.50</td>\n",
       "      <td>1121185.00</td>\n",
       "      <td>1121804.500</td>\n",
       "      <td>1.314415e+06</td>\n",
       "    </tr>\n",
       "    <tr>\n",
       "      <th>xyz_campaign_id</th>\n",
       "      <td>1143.0</td>\n",
       "      <td>1067.382327</td>\n",
       "      <td>121.629393</td>\n",
       "      <td>916.0</td>\n",
       "      <td>936.00</td>\n",
       "      <td>1178.00</td>\n",
       "      <td>1178.000</td>\n",
       "      <td>1.178000e+03</td>\n",
       "    </tr>\n",
       "    <tr>\n",
       "      <th>fb_campaign_id</th>\n",
       "      <td>1143.0</td>\n",
       "      <td>133783.989501</td>\n",
       "      <td>20500.308622</td>\n",
       "      <td>103916.0</td>\n",
       "      <td>115716.00</td>\n",
       "      <td>144549.00</td>\n",
       "      <td>144657.500</td>\n",
       "      <td>1.799820e+05</td>\n",
       "    </tr>\n",
       "    <tr>\n",
       "      <th>interest</th>\n",
       "      <td>1143.0</td>\n",
       "      <td>32.766404</td>\n",
       "      <td>26.952131</td>\n",
       "      <td>2.0</td>\n",
       "      <td>16.00</td>\n",
       "      <td>25.00</td>\n",
       "      <td>31.000</td>\n",
       "      <td>1.140000e+02</td>\n",
       "    </tr>\n",
       "    <tr>\n",
       "      <th>Impressions</th>\n",
       "      <td>1143.0</td>\n",
       "      <td>186732.132983</td>\n",
       "      <td>312762.183208</td>\n",
       "      <td>87.0</td>\n",
       "      <td>6503.50</td>\n",
       "      <td>51509.00</td>\n",
       "      <td>221769.000</td>\n",
       "      <td>3.052003e+06</td>\n",
       "    </tr>\n",
       "    <tr>\n",
       "      <th>Clicks</th>\n",
       "      <td>1143.0</td>\n",
       "      <td>33.390201</td>\n",
       "      <td>56.892438</td>\n",
       "      <td>0.0</td>\n",
       "      <td>1.00</td>\n",
       "      <td>8.00</td>\n",
       "      <td>37.500</td>\n",
       "      <td>4.210000e+02</td>\n",
       "    </tr>\n",
       "    <tr>\n",
       "      <th>Spent</th>\n",
       "      <td>1143.0</td>\n",
       "      <td>51.360656</td>\n",
       "      <td>86.908418</td>\n",
       "      <td>0.0</td>\n",
       "      <td>1.48</td>\n",
       "      <td>12.37</td>\n",
       "      <td>60.025</td>\n",
       "      <td>6.399500e+02</td>\n",
       "    </tr>\n",
       "    <tr>\n",
       "      <th>Total_Conversion</th>\n",
       "      <td>1143.0</td>\n",
       "      <td>2.855643</td>\n",
       "      <td>4.483593</td>\n",
       "      <td>0.0</td>\n",
       "      <td>1.00</td>\n",
       "      <td>1.00</td>\n",
       "      <td>3.000</td>\n",
       "      <td>6.000000e+01</td>\n",
       "    </tr>\n",
       "    <tr>\n",
       "      <th>Approved_Conversion</th>\n",
       "      <td>1143.0</td>\n",
       "      <td>0.944007</td>\n",
       "      <td>1.737708</td>\n",
       "      <td>0.0</td>\n",
       "      <td>0.00</td>\n",
       "      <td>1.00</td>\n",
       "      <td>1.000</td>\n",
       "      <td>2.100000e+01</td>\n",
       "    </tr>\n",
       "  </tbody>\n",
       "</table>\n",
       "</div>"
      ],
      "text/plain": [
       "                      count           mean            std       min  \\\n",
       "ad_id                1143.0  987261.130359  193992.814738  708746.0   \n",
       "xyz_campaign_id      1143.0    1067.382327     121.629393     916.0   \n",
       "fb_campaign_id       1143.0  133783.989501   20500.308622  103916.0   \n",
       "interest             1143.0      32.766404      26.952131       2.0   \n",
       "Impressions          1143.0  186732.132983  312762.183208      87.0   \n",
       "Clicks               1143.0      33.390201      56.892438       0.0   \n",
       "Spent                1143.0      51.360656      86.908418       0.0   \n",
       "Total_Conversion     1143.0       2.855643       4.483593       0.0   \n",
       "Approved_Conversion  1143.0       0.944007       1.737708       0.0   \n",
       "\n",
       "                           25%         50%          75%           max  \n",
       "ad_id                777632.50  1121185.00  1121804.500  1.314415e+06  \n",
       "xyz_campaign_id         936.00     1178.00     1178.000  1.178000e+03  \n",
       "fb_campaign_id       115716.00   144549.00   144657.500  1.799820e+05  \n",
       "interest                 16.00       25.00       31.000  1.140000e+02  \n",
       "Impressions            6503.50    51509.00   221769.000  3.052003e+06  \n",
       "Clicks                    1.00        8.00       37.500  4.210000e+02  \n",
       "Spent                     1.48       12.37       60.025  6.399500e+02  \n",
       "Total_Conversion          1.00        1.00        3.000  6.000000e+01  \n",
       "Approved_Conversion       0.00        1.00        1.000  2.100000e+01  "
      ]
     },
     "execution_count": 7,
     "metadata": {},
     "output_type": "execute_result"
    }
   ],
   "source": [
    "df.describe().T"
   ]
  },
  {
   "cell_type": "code",
   "execution_count": 8,
   "id": "1561f805",
   "metadata": {},
   "outputs": [
    {
     "data": {
      "text/plain": [
       "array(['30-34', '35-39', '40-44', '45-49'], dtype=object)"
      ]
     },
     "execution_count": 8,
     "metadata": {},
     "output_type": "execute_result"
    }
   ],
   "source": [
    "#checking age range\n",
    "\n",
    "df.age.unique()"
   ]
  },
  {
   "cell_type": "code",
   "execution_count": 9,
   "id": "54fb4e5d",
   "metadata": {},
   "outputs": [
    {
     "data": {
      "text/plain": [
       "array([ 916,  936, 1178], dtype=int64)"
      ]
     },
     "execution_count": 9,
     "metadata": {},
     "output_type": "execute_result"
    }
   ],
   "source": [
    "#checking unique campaign id\n",
    "\n",
    "df.xyz_campaign_id.unique()"
   ]
  },
  {
   "cell_type": "code",
   "execution_count": 10,
   "id": "d91b1f1e",
   "metadata": {},
   "outputs": [
    {
     "data": {
      "text/plain": [
       "array([103916, 103917, 103920, 103928, 103929, 103940, 103941, 103951,\n",
       "       103952, 103955, 103962, 103965, 103968, 103976, 103978, 103979,\n",
       "       103988, 103989, 104012, 104013, 104034, 104049, 104061, 104085,\n",
       "       104108, 104109, 104133, 104140, 104185, 104205, 104220, 104228,\n",
       "       104229, 104230, 104239, 104252, 104265, 104270, 104272, 104285,\n",
       "       104287, 104328, 104396, 104419, 104423, 104438, 104467, 108654,\n",
       "       108655, 108660, 108664, 108665, 108668, 108672, 108678, 108680,\n",
       "       108683, 108686, 108689, 108690, 108691, 108692, 108716, 108720,\n",
       "       108729, 108730, 108740, 108742, 108750, 108752, 108753, 108761,\n",
       "       108762, 108764, 108766, 108770, 108774, 108776, 108781, 108786,\n",
       "       108788, 108791, 108792, 108793, 108794, 108797, 108804, 108809,\n",
       "       108810, 108811, 108817, 108818, 108822, 108823, 108826, 108827,\n",
       "       108834, 108836, 109448, 109451, 109452, 109470, 109472, 109473,\n",
       "       109498, 109507, 109553, 109565, 109601, 109629, 109633, 109637,\n",
       "       109659, 109689, 109698, 109706, 109714, 109717, 109731, 109738,\n",
       "       109788, 109808, 109813, 109816, 109820, 109826, 109839, 109844,\n",
       "       109848, 109850, 109851, 109852, 109857, 109859, 110836, 110837,\n",
       "       110838, 110842, 110856, 110861, 110862, 110867, 110873, 110874,\n",
       "       110882, 110886, 110908, 110910, 110913, 110914, 110919, 110932,\n",
       "       110933, 110934, 110938, 110939, 110943, 110944, 110947, 110951,\n",
       "       110952, 110962, 110966, 110967, 110968, 110970, 110975, 110982,\n",
       "       111005, 111006, 111016, 111018, 111020, 111024, 115484, 115485,\n",
       "       115487, 115490, 115493, 115495, 115498, 115500, 115503, 115508,\n",
       "       115509, 115510, 115512, 115513, 115517, 115520, 115521, 115523,\n",
       "       115525, 115527, 115531, 115533, 115535, 115536, 115538, 115541,\n",
       "       115542, 115545, 115547, 115551, 115552, 115561, 115563, 115564,\n",
       "       115567, 115568, 115569, 115571, 115574, 115580, 115586, 115587,\n",
       "       115615, 115619, 115625, 115629, 115631, 115637, 115639, 115641,\n",
       "       115675, 115677, 115679, 115691, 115693, 115697, 115715, 115717,\n",
       "       115723, 115735, 115737, 115743, 115747, 115756, 115762, 115784,\n",
       "       115786, 115792, 115796, 115798, 115802, 115804, 115812, 115822,\n",
       "       115848, 115854, 115856, 115858, 115866, 115870, 115876, 115878,\n",
       "       115882, 115890, 115892, 115898, 115900, 115904, 115912, 115938,\n",
       "       115954, 115962, 116031, 116033, 116039, 116053, 116059, 116061,\n",
       "       116063, 116065, 116077, 116081, 116087, 116089, 116095, 116103,\n",
       "       116111, 116115, 116121, 116123, 116135, 116147, 116163, 116183,\n",
       "       116216, 116218, 116220, 116240, 116244, 116246, 116248, 116252,\n",
       "       116265, 116267, 116273, 116277, 116279, 116285, 116303, 116323,\n",
       "       116331, 116339, 116341, 116343, 116345, 116347, 116363, 116367,\n",
       "       116371, 116385, 116391, 116395, 116397, 116405, 116413, 116427,\n",
       "       116447, 116455, 116463, 116467, 116471, 116479, 116483, 116501,\n",
       "       116507, 116509, 116515, 116517, 116519, 116525, 116535, 116547,\n",
       "       116553, 116569, 116577, 116587, 116589, 116595, 116597, 116605,\n",
       "       116615, 116623, 123438, 123440, 123443, 123445, 123455, 123457,\n",
       "       123460, 123464, 123481, 123484, 123502, 123504, 123509, 123514,\n",
       "       123515, 123516, 123519, 123523, 123526, 123528, 123532, 123535,\n",
       "       123551, 123555, 123556, 123558, 123562, 123567, 123573, 123588,\n",
       "       123597, 123599, 123601, 123611, 123616, 123627, 123631, 123639,\n",
       "       123641, 123643, 123644, 123649, 123659, 123660, 123661, 123662,\n",
       "       123664, 123668, 123671, 123677, 123678, 123684, 123695, 123700,\n",
       "       123706, 123709, 123713, 123720, 123723, 123724, 123729, 123733,\n",
       "       123736, 123750, 123760, 123765, 123774, 123777, 144531, 144532,\n",
       "       144533, 144534, 144535, 144536, 144537, 144538, 144539, 144541,\n",
       "       144545, 144547, 144549, 144552, 144554, 144556, 144558, 144561,\n",
       "       144562, 144565, 144567, 144568, 144569, 144570, 144571, 144572,\n",
       "       144573, 144574, 144575, 144576, 144577, 144578, 144579, 144580,\n",
       "       144581, 144582, 144583, 144584, 144585, 144586, 144587, 144588,\n",
       "       144589, 144590, 144591, 144592, 144593, 144594, 144595, 144596,\n",
       "       144597, 144598, 144599, 144601, 144602, 144603, 144604, 144605,\n",
       "       144606, 144607, 144608, 144609, 144611, 144612, 144613, 144614,\n",
       "       144615, 144616, 144617, 144618, 144619, 144620, 144621, 144622,\n",
       "       144623, 144624, 144625, 144626, 144627, 144628, 144629, 144630,\n",
       "       144631, 144632, 144633, 144634, 144635, 144636, 144638, 144639,\n",
       "       144640, 144641, 144642, 144643, 144644, 144646, 144647, 144648,\n",
       "       144649, 144650, 144651, 144652, 144653, 144654, 144655, 144656,\n",
       "       144657, 144658, 144659, 144660, 144661, 144662, 144663, 144664,\n",
       "       144665, 144666, 144667, 144668, 144669, 144670, 144671, 144672,\n",
       "       144673, 144674, 144675, 144676, 144678, 144679, 144681, 144682,\n",
       "       144683, 144684, 144685, 144686, 144687, 144689, 144691, 144692,\n",
       "       144694, 144695, 144697, 144698, 144699, 144700, 144703, 144704,\n",
       "       144705, 144707, 144708, 144709, 144710, 144711, 144712, 144713,\n",
       "       144714, 144715, 144716, 144717, 144718, 144719, 144720, 144721,\n",
       "       144722, 144723, 144724, 144725, 144726, 144727, 144728, 144729,\n",
       "       144730, 144731, 144732, 144733, 144734, 144735, 144736, 144737,\n",
       "       144738, 144741, 144742, 144743, 179863, 179864, 179865, 179866,\n",
       "       179868, 179870, 179873, 179874, 179875, 179876, 179879, 179880,\n",
       "       179881, 179883, 179885, 179886, 179887, 179888, 179890, 179891,\n",
       "       179892, 179893, 179894, 179897, 179898, 179899, 179900, 179901,\n",
       "       179903, 179904, 179905, 179906, 179908, 179910, 179912, 179913,\n",
       "       179915, 179916, 179917, 179918, 179920, 179921, 179922, 179924,\n",
       "       179925, 179926, 179927, 179928, 179929, 179930, 179931, 179932,\n",
       "       179933, 179934, 179935, 179938, 179939, 179940, 179944, 179945,\n",
       "       179946, 179947, 179948, 179949, 179950, 179951, 179952, 179953,\n",
       "       179954, 179955, 179956, 179957, 179958, 179959, 179960, 179961,\n",
       "       179962, 179963, 179964, 179965, 179967, 179968, 179969, 179970,\n",
       "       179971, 179972, 179973, 179974, 179975, 179976, 179977, 179978,\n",
       "       179979, 179981, 179982], dtype=int64)"
      ]
     },
     "execution_count": 10,
     "metadata": {},
     "output_type": "execute_result"
    }
   ],
   "source": [
    "#checking unique values in fb_campaign\n",
    "\n",
    "df.fb_campaign_id.unique()"
   ]
  },
  {
   "cell_type": "code",
   "execution_count": 11,
   "id": "1886ce7a",
   "metadata": {},
   "outputs": [
    {
     "data": {
      "image/png": "[encoded data removed]",
      "text/plain": [
       "<Figure size 432x288 with 1 Axes>"
      ]
     },
     "metadata": {
      "needs_background": "light"
     },
     "output_type": "display_data"
    }
   ],
   "source": [
    "# count plot on single categorical variable \n",
    "\n",
    "sns.countplot(x ='xyz_campaign_id', data = df) \n",
    "\n",
    "# Show the plot \n",
    "\n",
    "plt.show()"
   ]
  },
  {
   "cell_type": "markdown",
   "id": "1b7e172b",
   "metadata": {},
   "source": [
    "Campaign_id 1178 has the highest count of campaigns\n",
    "\n"
   ]
  },
  {
   "cell_type": "code",
   "execution_count": 12,
   "id": "4e1a275c",
   "metadata": {},
   "outputs": [
    {
     "data": {
      "image/png": "[encoded data removed]",
      "text/plain": [
       "<Figure size 864x576 with 1 Axes>"
      ]
     },
     "metadata": {
      "needs_background": "light"
     },
     "output_type": "display_data"
    }
   ],
   "source": [
    "fig=plt.figure(figsize=(12,8))\n",
    "\n",
    "sns.countplot(data=df, x='xyz_campaign_id', hue='gender')\n",
    "plt.title('Gender distribution')\n",
    "plt.grid(axis='y')"
   ]
  },
  {
   "cell_type": "code",
   "execution_count": 13,
   "id": "401f38d1",
   "metadata": {},
   "outputs": [
    {
     "data": {
      "image/png": "[encoded data removed]",
      "text/plain": [
       "<Figure size 432x288 with 1 Axes>"
      ]
     },
     "metadata": {
      "needs_background": "light"
     },
     "output_type": "display_data"
    }
   ],
   "source": [
    "#Approved_Conversion\n",
    "\n",
    "# Creating bar plot\n",
    "\n",
    "plt.bar(df[\"xyz_campaign_id\"].astype(str), df[\"Approved_Conversion\"])\n",
    "plt.ylabel(\"Approved_Conversion\")\n",
    "plt.title(\"Campaign vs Approved_Conversion\")\n",
    "plt.show()"
   ]
  },
  {
   "cell_type": "markdown",
   "id": "6c002386",
   "metadata": {},
   "source": [
    "From the above graphs we can see that campaign with id 1178 has maximum number of count and highest Approved conversion so most peolples are buying product through this campaing."
   ]
  },
  {
   "cell_type": "code",
   "execution_count": 14,
   "id": "bf301a89",
   "metadata": {},
   "outputs": [
    {
     "data": {
      "image/png": "[encoded data removed]",
      "text/plain": [
       "<Figure size 864x504 with 1 Axes>"
      ]
     },
     "metadata": {
      "needs_background": "light"
     },
     "output_type": "display_data"
    }
   ],
   "source": [
    "fig=plt.figure(figsize=(12,7))\n",
    "\n",
    "sns.countplot(data=df, x='age', hue='gender')\n",
    "plt.title('Age distribution by GENDER')\n",
    "plt.grid(axis='y')"
   ]
  },
  {
   "cell_type": "markdown",
   "id": "f29d43bc",
   "metadata": {},
   "source": [
    "Both male and female show similar interests in all campaign but there is rise in count in age group 30-34\n",
    "\n"
   ]
  },
  {
   "cell_type": "code",
   "execution_count": 15,
   "id": "92d46682",
   "metadata": {},
   "outputs": [
    {
     "data": {
      "text/plain": [
       "<AxesSubplot:xlabel='xyz_campaign_id', ylabel='Approved_Conversion'>"
      ]
     },
     "execution_count": 15,
     "metadata": {},
     "output_type": "execute_result"
    },
    {
     "data": {
      "image/png": "[encoded data removed]",
      "text/plain": [
       "<Figure size 432x288 with 1 Axes>"
      ]
     },
     "metadata": {},
     "output_type": "display_data"
    }
   ],
   "source": [
    "sns.set(style=\"whitegrid\")\n",
    "tips = sns.load_dataset(\"tips\")\n",
    "sns.barplot(x=df[\"xyz_campaign_id\"], y=df[\"Approved_Conversion\"], hue=df[\"age\"], data=tips)"
   ]
  },
  {
   "cell_type": "markdown",
   "id": "a31f7c2d",
   "metadata": {},
   "source": [
    "Age group 30-34 has the highest \"Approved_Conversion\" rate in campaign id-(1178, 936) but in campaign id-916 40 to 44 age group's peole has higher rate of conversion."
   ]
  },
  {
   "cell_type": "code",
   "execution_count": 16,
   "id": "d35f3ace",
   "metadata": {},
   "outputs": [
    {
     "data": {
      "image/png": "[encoded data removed]",
      "text/plain": [
       "<Figure size 1080x504 with 1 Axes>"
      ]
     },
     "metadata": {},
     "output_type": "display_data"
    }
   ],
   "source": [
    "fig=plt.figure(figsize=(15,7))\n",
    "\n",
    "sns.countplot(data=df, x='interest', hue='gender')\n",
    "plt.title('Interest topic distribution by GENDER')\n",
    "plt.grid(axis='y')"
   ]
  },
  {
   "cell_type": "markdown",
   "id": "aafba3ab",
   "metadata": {},
   "source": [
    "Intrest 16,10,29 has more no of counts."
   ]
  },
  {
   "cell_type": "code",
   "execution_count": 25,
   "id": "f275f0c3",
   "metadata": {},
   "outputs": [
    {
     "data": {
      "text/plain": [
       "<seaborn.axisgrid.FacetGrid at 0x22e343bb910>"
      ]
     },
     "execution_count": 25,
     "metadata": {},
     "output_type": "execute_result"
    },
    {
     "data": {
      "image/png": "[encoded data removed]",
      "text/plain": [
       "<Figure size 440.8x216 with 2 Axes>"
      ]
     },
     "metadata": {},
     "output_type": "display_data"
    }
   ],
   "source": [
    "c = sns.FacetGrid(df, col=\"gender\")\n",
    "c.map(plt.scatter, \"interest\", \"Approved_Conversion\", alpha=.5)\n",
    "c.add_legend()"
   ]
  },
  {
   "cell_type": "markdown",
   "id": "b0cb5cb3",
   "metadata": {},
   "source": [
    "There is rise at 'interest' 16 also in 'Approved_Conversion'\n",
    "There is a fall in interest after 100 but not in 'Approved_conversion'"
   ]
  },
  {
   "cell_type": "code",
   "execution_count": 26,
   "id": "e5bc5f9a",
   "metadata": {},
   "outputs": [
    {
     "data": {
      "image/png": "[encoded data removed]",
      "text/plain": [
       "<Figure size 432x288 with 1 Axes>"
      ]
     },
     "metadata": {},
     "output_type": "display_data"
    }
   ],
   "source": [
    "plt.scatter(df[\"Spent\"], df[\"Approved_Conversion\"])\n",
    "plt.title(\"Spent vs. Approved_Conversion\")\n",
    "plt.xlabel(\"Spent\")\n",
    "plt.ylabel(\"Approved_Conversion\")\n",
    "plt.show()"
   ]
  },
  {
   "cell_type": "markdown",
   "id": "7b5ab467",
   "metadata": {},
   "source": [
    "Amount of money spent increase 'approved_Conversion' is increasing"
   ]
  },
  {
   "cell_type": "code",
   "execution_count": 27,
   "id": "63bf5ac8",
   "metadata": {},
   "outputs": [
    {
     "data": {
      "image/png": "[encoded data removed]",
      "text/plain": [
       "<Figure size 432x288 with 1 Axes>"
      ]
     },
     "metadata": {},
     "output_type": "display_data"
    }
   ],
   "source": [
    "plt.scatter(df[\"Impressions\"], df[\"Approved_Conversion\"])\n",
    "plt.title(\"Impressions vs. Approved_Conversion\")\n",
    "plt.xlabel(\"Impressions\")\n",
    "plt.ylabel(\"Approved_Conversion\")\n",
    "plt.show()"
   ]
  },
  {
   "cell_type": "markdown",
   "id": "e951cffd",
   "metadata": {},
   "source": [
    "After a certain point of impression there is sudden rise in 'Approved_Conversion'"
   ]
  },
  {
   "cell_type": "code",
   "execution_count": 28,
   "id": "7ec9f6d8",
   "metadata": {},
   "outputs": [
    {
     "data": {
      "text/plain": [
       "<seaborn.axisgrid.FacetGrid at 0x22e34527b50>"
      ]
     },
     "execution_count": 28,
     "metadata": {},
     "output_type": "execute_result"
    },
    {
     "data": {
      "image/png": "[encoded data removed]",
      "text/plain": [
       "<Figure size 872.8x216 with 4 Axes>"
      ]
     },
     "metadata": {},
     "output_type": "display_data"
    }
   ],
   "source": [
    "c = sns.FacetGrid(df, col=\"age\")\n",
    "c.map(plt.scatter, \"Clicks\", \"Approved_Conversion\", alpha=.4)\n",
    "c.add_legend()"
   ]
  },
  {
   "cell_type": "markdown",
   "id": "82e18732",
   "metadata": {},
   "source": [
    "People in age group by more product because it seems like they have higher tendency to buy product after clicking the ad while in age group 45 to 49 people clicks more on ad but have a lower 'Approved_conversion' rate comparitively."
   ]
  },
  {
   "cell_type": "markdown",
   "id": "b74b3e33",
   "metadata": {},
   "source": [
    "Results\n",
    "\n",
    "1.)Age Group 30-34: This age group has lesser percentage of click through rates but they have higher ratio in buying the product and doing enquiry about the product. Hence, they are risk takers who sees the ad clicks and most of the time takes the product.\n",
    "\n",
    "2.)Age group 45-49: This age group clicks on ad more no. of times but don't buy the product or enquire frequently.\n",
    "Thus the company can target on age group 30-34\n",
    "\n",
    "3.)Both the genders shows similar interests in all three campaigns.\n",
    "\n",
    "4.)As the amount of money spent increases, no of product bought increases.\n",
    "There is a sudden rise in the Approved_Conversion after a certain point in Impressions.\n",
    "\n",
    "5.)\"Impressions\" and \"Total_Conversion\" are more correlated with \"Approved_Conversion\" than \"Clicks\" and \"Spent\".\n",
    "\n",
    "6.)The highest amount of moneyspent by a company to display ads lies in the category of interests: 10, 15, 16, 27, 28, 29 and 63.\n",
    "\n",
    "7.)Facebook had more sales as compared to other companies\n",
    "Both the companies got highest amount clicks from age group 45-49 and gender female . Clearly, facebook ads got more clicks.\n"
   ]
  },
  {
   "cell_type": "markdown",
   "id": "0528dc5d",
   "metadata": {},
   "source": [
    "Business Questions\n",
    "\n",
    "1)How to optimize the social ad campaigns for the highest conversion rate possible. (Attain best Reach to Conversion ratios/Click to Conversion ratios)\n",
    "\n",
    "=> Since highest conversion rate was attained in campaign_1178, we can consider the factors contributed in this campaign:\n",
    "\n",
    "The number of ad counts should be more for better reach.\n",
    "\n",
    "The age group of 30-34 should be the main aim.\n",
    "\n",
    "People with interest types after 100 should be given more attention\n",
    "\n",
    "More the number of times the add is shown i.e. \"impression\", more approved_conversion rate is achieved.\n",
    "\n",
    "2)Finding the perfect target demographics with the appropriate clickthrough rates\n",
    "\n",
    "Women tend to buy the product more often after clicking the ad than men.\n",
    "Also the age group 30 to 34 buy the product more often after clicking the ad\n",
    "\n",
    "\n",
    "3)Understanding the ideal turnaround/decision making time per age group to convert and retarget future social campaigns\n",
    "\n",
    "Age group 30-34 tend to take less decision making time followed by 35 to 39 and 40-44.\n",
    "Age group 45-49 take the most time to decide.\n",
    "\n",
    "\n",
    "4)Comparing the individual campaign performance so the best creative/campaign can be run again with adjusted audiences.\n",
    "\n",
    "clearly campaign_1178 wins the battle due to highest approved_conversion rate.\n",
    "Also campaign_a does pretty well , considering the number of ads it involves. With less no of ads, it has managed to peform better than campaign_b with large no of ads."
   ]
  },
  {
   "cell_type": "markdown",
   "id": "46588f90",
   "metadata": {},
   "source": [
    "NIKHIL CHHOKAR\n",
    "   chhokarnikhil@gmail.com\n",
    "    9911581486"
   ]
  },
  {
   "cell_type": "markdown",
   "id": "4f25ac6e",
   "metadata": {},
   "source": [
    "END"
   ]
  }
 ],
 "metadata": {
  "kernelspec": {
   "display_name": "Python 3",
   "language": "python",
   "name": "python3"
  },
  "language_info": {
   "codemirror_mode": {
    "name": "ipython",
    "version": 3
   },
   "file_extension": ".py",
   "mimetype": "text/x-python",
   "name": "python",
   "nbconvert_exporter": "python",
   "pygments_lexer": "ipython3",
   "version": "3.8.8"
  }
 },
 "nbformat": 4,
 "nbformat_minor": 5
}
